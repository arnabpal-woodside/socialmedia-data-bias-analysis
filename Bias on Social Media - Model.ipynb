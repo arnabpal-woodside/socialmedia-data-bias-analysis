{
 "cells": [
  {
   "cell_type": "code",
   "execution_count": 5,
   "metadata": {},
   "outputs": [],
   "source": [
    "import pandas as pd\n",
    "import numpy as np\n",
    "import seaborn as sn\n",
    "import matplotlib.pyplot as plt"
   ]
  },
  {
   "cell_type": "code",
   "execution_count": 6,
   "metadata": {},
   "outputs": [],
   "source": [
    "from sklearn.linear_model import LogisticRegression\n",
    "from sklearn.neighbors import KNeighborsClassifier\n",
    "from sklearn.svm import SVC\n",
    "from sklearn.model_selection import cross_val_score\n",
    "from sklearn.metrics import r2_score\n",
    "from sklearn.metrics import accuracy_score"
   ]
  },
  {
   "cell_type": "code",
   "execution_count": 9,
   "metadata": {},
   "outputs": [],
   "source": [
    "data = pd.read_csv('/Users/Sathar/Documents/MD/DS/Trainings/Kaggle/twitter.csv')"
   ]
  },
  {
   "cell_type": "code",
   "execution_count": 10,
   "metadata": {},
   "outputs": [],
   "source": [
    "data['Non-aggressive'] = data[['sadness','joy']].max(axis=1)\n",
    "data['aggressive'] = data[['fear','disgust','anger']].max(axis=1)"
   ]
  },
  {
   "cell_type": "code",
   "execution_count": 11,
   "metadata": {},
   "outputs": [],
   "source": [
    "data['sentiment_label']= data['sentiment_label'].replace('negative',0)\n",
    "data['sentiment_label']= data['sentiment_label'].replace('neutral',1)\n",
    "data['sentiment_label']= data['sentiment_label'].replace('positive',2)"
   ]
  },
  {
   "cell_type": "code",
   "execution_count": 12,
   "metadata": {},
   "outputs": [],
   "source": [
    "data['bias']=np.where((data['sentiment_label']==0) | (data['aggressive']>0.5),1,0)"
   ]
  },
  {
   "cell_type": "code",
   "execution_count": 13,
   "metadata": {},
   "outputs": [
    {
     "data": {
      "text/plain": [
       "1    371\n",
       "0    233\n",
       "Name: bias, dtype: int64"
      ]
     },
     "execution_count": 13,
     "metadata": {},
     "output_type": "execute_result"
    }
   ],
   "source": [
    "data['bias'].value_counts()"
   ]
  },
  {
   "cell_type": "code",
   "execution_count": 14,
   "metadata": {},
   "outputs": [],
   "source": [
    "from sklearn.model_selection import train_test_split"
   ]
  },
  {
   "cell_type": "code",
   "execution_count": 15,
   "metadata": {},
   "outputs": [],
   "source": [
    "y = data.bias.copy()\n",
    "X = data.drop(['userId','text','bias'], axis=1) "
   ]
  },
  {
   "cell_type": "code",
   "execution_count": 16,
   "metadata": {},
   "outputs": [
    {
     "data": {
      "text/html": [
       "<div>\n",
       "<style scoped>\n",
       "    .dataframe tbody tr th:only-of-type {\n",
       "        vertical-align: middle;\n",
       "    }\n",
       "\n",
       "    .dataframe tbody tr th {\n",
       "        vertical-align: top;\n",
       "    }\n",
       "\n",
       "    .dataframe thead th {\n",
       "        text-align: right;\n",
       "    }\n",
       "</style>\n",
       "<table border=\"1\" class=\"dataframe\">\n",
       "  <thead>\n",
       "    <tr style=\"text-align: right;\">\n",
       "      <th></th>\n",
       "      <th>userId</th>\n",
       "      <th>text</th>\n",
       "      <th>sentiment_label</th>\n",
       "      <th>sadness</th>\n",
       "      <th>joy</th>\n",
       "      <th>fear</th>\n",
       "      <th>disgust</th>\n",
       "      <th>anger</th>\n",
       "      <th>Non-aggressive</th>\n",
       "      <th>aggressive</th>\n",
       "      <th>bias</th>\n",
       "    </tr>\n",
       "  </thead>\n",
       "  <tbody>\n",
       "    <tr>\n",
       "      <th>0</th>\n",
       "      <td>1.175120e+18</td>\n",
       "      <td>RT @FrontNieuws: 22 South-African farm attacks...</td>\n",
       "      <td>0</td>\n",
       "      <td>0.537377</td>\n",
       "      <td>0.072224</td>\n",
       "      <td>0.291944</td>\n",
       "      <td>0.220625</td>\n",
       "      <td>0.164489</td>\n",
       "      <td>0.537377</td>\n",
       "      <td>0.291944</td>\n",
       "      <td>1</td>\n",
       "    </tr>\n",
       "    <tr>\n",
       "      <th>1</th>\n",
       "      <td>1.320800e+09</td>\n",
       "      <td>@realchrisrufo @TuckerCarlson The CRT and bull...</td>\n",
       "      <td>0</td>\n",
       "      <td>0.046627</td>\n",
       "      <td>0.024705</td>\n",
       "      <td>0.009720</td>\n",
       "      <td>0.239563</td>\n",
       "      <td>0.773850</td>\n",
       "      <td>0.046627</td>\n",
       "      <td>0.773850</td>\n",
       "      <td>1</td>\n",
       "    </tr>\n",
       "    <tr>\n",
       "      <th>2</th>\n",
       "      <td>7.968390e+17</td>\n",
       "      <td>RT @FrontNieuws: 22 South-African farm attacks...</td>\n",
       "      <td>0</td>\n",
       "      <td>0.537377</td>\n",
       "      <td>0.072224</td>\n",
       "      <td>0.291944</td>\n",
       "      <td>0.220625</td>\n",
       "      <td>0.164489</td>\n",
       "      <td>0.537377</td>\n",
       "      <td>0.291944</td>\n",
       "      <td>1</td>\n",
       "    </tr>\n",
       "    <tr>\n",
       "      <th>3</th>\n",
       "      <td>1.939637e+08</td>\n",
       "      <td>RT @ucet123: #blackracism #WhiteLivesMatter #A...</td>\n",
       "      <td>1</td>\n",
       "      <td>0.223239</td>\n",
       "      <td>0.360606</td>\n",
       "      <td>0.015595</td>\n",
       "      <td>0.527718</td>\n",
       "      <td>0.004490</td>\n",
       "      <td>0.360606</td>\n",
       "      <td>0.527718</td>\n",
       "      <td>1</td>\n",
       "    </tr>\n",
       "    <tr>\n",
       "      <th>4</th>\n",
       "      <td>1.192800e+18</td>\n",
       "      <td>#blackracism #WhiteLivesMatter #AllLivesMatter...</td>\n",
       "      <td>1</td>\n",
       "      <td>0.133241</td>\n",
       "      <td>0.212567</td>\n",
       "      <td>0.078511</td>\n",
       "      <td>0.081161</td>\n",
       "      <td>0.097968</td>\n",
       "      <td>0.212567</td>\n",
       "      <td>0.097968</td>\n",
       "      <td>0</td>\n",
       "    </tr>\n",
       "  </tbody>\n",
       "</table>\n",
       "</div>"
      ],
      "text/plain": [
       "         userId                                               text  \\\n",
       "0  1.175120e+18  RT @FrontNieuws: 22 South-African farm attacks...   \n",
       "1  1.320800e+09  @realchrisrufo @TuckerCarlson The CRT and bull...   \n",
       "2  7.968390e+17  RT @FrontNieuws: 22 South-African farm attacks...   \n",
       "3  1.939637e+08  RT @ucet123: #blackracism #WhiteLivesMatter #A...   \n",
       "4  1.192800e+18  #blackracism #WhiteLivesMatter #AllLivesMatter...   \n",
       "\n",
       "   sentiment_label   sadness       joy      fear   disgust     anger  \\\n",
       "0                0  0.537377  0.072224  0.291944  0.220625  0.164489   \n",
       "1                0  0.046627  0.024705  0.009720  0.239563  0.773850   \n",
       "2                0  0.537377  0.072224  0.291944  0.220625  0.164489   \n",
       "3                1  0.223239  0.360606  0.015595  0.527718  0.004490   \n",
       "4                1  0.133241  0.212567  0.078511  0.081161  0.097968   \n",
       "\n",
       "   Non-aggressive  aggressive  bias  \n",
       "0        0.537377    0.291944     1  \n",
       "1        0.046627    0.773850     1  \n",
       "2        0.537377    0.291944     1  \n",
       "3        0.360606    0.527718     1  \n",
       "4        0.212567    0.097968     0  "
      ]
     },
     "execution_count": 16,
     "metadata": {},
     "output_type": "execute_result"
    }
   ],
   "source": [
    "data.head()"
   ]
  },
  {
   "cell_type": "code",
   "execution_count": 17,
   "metadata": {},
   "outputs": [
    {
     "data": {
      "text/html": [
       "<div>\n",
       "<style scoped>\n",
       "    .dataframe tbody tr th:only-of-type {\n",
       "        vertical-align: middle;\n",
       "    }\n",
       "\n",
       "    .dataframe tbody tr th {\n",
       "        vertical-align: top;\n",
       "    }\n",
       "\n",
       "    .dataframe thead th {\n",
       "        text-align: right;\n",
       "    }\n",
       "</style>\n",
       "<table border=\"1\" class=\"dataframe\">\n",
       "  <thead>\n",
       "    <tr style=\"text-align: right;\">\n",
       "      <th></th>\n",
       "      <th>sentiment_label</th>\n",
       "      <th>sadness</th>\n",
       "      <th>joy</th>\n",
       "      <th>fear</th>\n",
       "      <th>disgust</th>\n",
       "      <th>anger</th>\n",
       "      <th>Non-aggressive</th>\n",
       "      <th>aggressive</th>\n",
       "    </tr>\n",
       "  </thead>\n",
       "  <tbody>\n",
       "    <tr>\n",
       "      <th>0</th>\n",
       "      <td>0</td>\n",
       "      <td>0.537377</td>\n",
       "      <td>0.072224</td>\n",
       "      <td>0.291944</td>\n",
       "      <td>0.220625</td>\n",
       "      <td>0.164489</td>\n",
       "      <td>0.537377</td>\n",
       "      <td>0.291944</td>\n",
       "    </tr>\n",
       "    <tr>\n",
       "      <th>1</th>\n",
       "      <td>0</td>\n",
       "      <td>0.046627</td>\n",
       "      <td>0.024705</td>\n",
       "      <td>0.009720</td>\n",
       "      <td>0.239563</td>\n",
       "      <td>0.773850</td>\n",
       "      <td>0.046627</td>\n",
       "      <td>0.773850</td>\n",
       "    </tr>\n",
       "    <tr>\n",
       "      <th>2</th>\n",
       "      <td>0</td>\n",
       "      <td>0.537377</td>\n",
       "      <td>0.072224</td>\n",
       "      <td>0.291944</td>\n",
       "      <td>0.220625</td>\n",
       "      <td>0.164489</td>\n",
       "      <td>0.537377</td>\n",
       "      <td>0.291944</td>\n",
       "    </tr>\n",
       "    <tr>\n",
       "      <th>3</th>\n",
       "      <td>1</td>\n",
       "      <td>0.223239</td>\n",
       "      <td>0.360606</td>\n",
       "      <td>0.015595</td>\n",
       "      <td>0.527718</td>\n",
       "      <td>0.004490</td>\n",
       "      <td>0.360606</td>\n",
       "      <td>0.527718</td>\n",
       "    </tr>\n",
       "    <tr>\n",
       "      <th>4</th>\n",
       "      <td>1</td>\n",
       "      <td>0.133241</td>\n",
       "      <td>0.212567</td>\n",
       "      <td>0.078511</td>\n",
       "      <td>0.081161</td>\n",
       "      <td>0.097968</td>\n",
       "      <td>0.212567</td>\n",
       "      <td>0.097968</td>\n",
       "    </tr>\n",
       "    <tr>\n",
       "      <th>...</th>\n",
       "      <td>...</td>\n",
       "      <td>...</td>\n",
       "      <td>...</td>\n",
       "      <td>...</td>\n",
       "      <td>...</td>\n",
       "      <td>...</td>\n",
       "      <td>...</td>\n",
       "      <td>...</td>\n",
       "    </tr>\n",
       "    <tr>\n",
       "      <th>599</th>\n",
       "      <td>0</td>\n",
       "      <td>0.736374</td>\n",
       "      <td>0.014236</td>\n",
       "      <td>0.180164</td>\n",
       "      <td>0.248955</td>\n",
       "      <td>0.124123</td>\n",
       "      <td>0.736374</td>\n",
       "      <td>0.248955</td>\n",
       "    </tr>\n",
       "    <tr>\n",
       "      <th>600</th>\n",
       "      <td>0</td>\n",
       "      <td>0.021739</td>\n",
       "      <td>0.039420</td>\n",
       "      <td>0.050344</td>\n",
       "      <td>0.708669</td>\n",
       "      <td>0.430976</td>\n",
       "      <td>0.039420</td>\n",
       "      <td>0.708669</td>\n",
       "    </tr>\n",
       "    <tr>\n",
       "      <th>601</th>\n",
       "      <td>0</td>\n",
       "      <td>0.021739</td>\n",
       "      <td>0.039420</td>\n",
       "      <td>0.050344</td>\n",
       "      <td>0.708669</td>\n",
       "      <td>0.430976</td>\n",
       "      <td>0.039420</td>\n",
       "      <td>0.708669</td>\n",
       "    </tr>\n",
       "    <tr>\n",
       "      <th>602</th>\n",
       "      <td>0</td>\n",
       "      <td>0.021739</td>\n",
       "      <td>0.039420</td>\n",
       "      <td>0.050344</td>\n",
       "      <td>0.708669</td>\n",
       "      <td>0.430976</td>\n",
       "      <td>0.039420</td>\n",
       "      <td>0.708669</td>\n",
       "    </tr>\n",
       "    <tr>\n",
       "      <th>603</th>\n",
       "      <td>1</td>\n",
       "      <td>0.302416</td>\n",
       "      <td>0.088289</td>\n",
       "      <td>0.185382</td>\n",
       "      <td>0.214783</td>\n",
       "      <td>0.287609</td>\n",
       "      <td>0.302416</td>\n",
       "      <td>0.287609</td>\n",
       "    </tr>\n",
       "  </tbody>\n",
       "</table>\n",
       "<p>604 rows × 8 columns</p>\n",
       "</div>"
      ],
      "text/plain": [
       "     sentiment_label   sadness       joy      fear   disgust     anger  \\\n",
       "0                  0  0.537377  0.072224  0.291944  0.220625  0.164489   \n",
       "1                  0  0.046627  0.024705  0.009720  0.239563  0.773850   \n",
       "2                  0  0.537377  0.072224  0.291944  0.220625  0.164489   \n",
       "3                  1  0.223239  0.360606  0.015595  0.527718  0.004490   \n",
       "4                  1  0.133241  0.212567  0.078511  0.081161  0.097968   \n",
       "..               ...       ...       ...       ...       ...       ...   \n",
       "599                0  0.736374  0.014236  0.180164  0.248955  0.124123   \n",
       "600                0  0.021739  0.039420  0.050344  0.708669  0.430976   \n",
       "601                0  0.021739  0.039420  0.050344  0.708669  0.430976   \n",
       "602                0  0.021739  0.039420  0.050344  0.708669  0.430976   \n",
       "603                1  0.302416  0.088289  0.185382  0.214783  0.287609   \n",
       "\n",
       "     Non-aggressive  aggressive  \n",
       "0          0.537377    0.291944  \n",
       "1          0.046627    0.773850  \n",
       "2          0.537377    0.291944  \n",
       "3          0.360606    0.527718  \n",
       "4          0.212567    0.097968  \n",
       "..              ...         ...  \n",
       "599        0.736374    0.248955  \n",
       "600        0.039420    0.708669  \n",
       "601        0.039420    0.708669  \n",
       "602        0.039420    0.708669  \n",
       "603        0.302416    0.287609  \n",
       "\n",
       "[604 rows x 8 columns]"
      ]
     },
     "execution_count": 17,
     "metadata": {},
     "output_type": "execute_result"
    }
   ],
   "source": [
    "X"
   ]
  },
  {
   "cell_type": "code",
   "execution_count": 18,
   "metadata": {},
   "outputs": [],
   "source": [
    "X_train, X_test, y_train, y_test = train_test_split(X, y, test_size=0.33, random_state=42)"
   ]
  },
  {
   "cell_type": "code",
   "execution_count": 19,
   "metadata": {},
   "outputs": [
    {
     "name": "stdout",
     "output_type": "stream",
     "text": [
      "0.985\n"
     ]
    }
   ],
   "source": [
    "model = LogisticRegression(max_iter = 500000)\n",
    "model.fit(X_train, y_train)\n",
    "y_pred = model.predict(X_test)\n",
    "accuracy = model.score(X_test, y_test)\n",
    "print(accuracy)"
   ]
  },
  {
   "cell_type": "code",
   "execution_count": 20,
   "metadata": {},
   "outputs": [
    {
     "name": "stdout",
     "output_type": "stream",
     "text": [
      "0.99\n"
     ]
    }
   ],
   "source": [
    "classifier=KNeighborsClassifier(n_neighbors=5,metric='minkowski',p=2)\n",
    "classifier.fit(X_train,y_train)\n",
    "y_pred=classifier.predict(X_test)\n",
    "acc=accuracy_score(y_test, y_pred)\n",
    "print(acc)"
   ]
  },
  {
   "cell_type": "code",
   "execution_count": 23,
   "metadata": {},
   "outputs": [
    {
     "data": {
      "text/plain": [
       "<matplotlib.axes._subplots.AxesSubplot at 0x29b915702c8>"
      ]
     },
     "execution_count": 23,
     "metadata": {},
     "output_type": "execute_result"
    },
    {
     "data": {
      "image/png": "[encoded data removed]",
      "text/plain": [
       "<Figure size 432x288 with 1 Axes>"
      ]
     },
     "metadata": {
      "needs_background": "light"
     },
     "output_type": "display_data"
    }
   ],
   "source": [
    "sn.countplot( x = data['sentiment_label'], hue = data['bias'] , palette = \"Paired\")"
   ]
  },
  {
   "cell_type": "code",
   "execution_count": null,
   "metadata": {},
   "outputs": [],
   "source": []
  }
 ],
 "metadata": {
  "kernelspec": {
   "display_name": "Python 3",
   "language": "python",
   "name": "python3"
  },
  "language_info": {
   "codemirror_mode": {
    "name": "ipython",
    "version": 3
   },
   "file_extension": ".py",
   "mimetype": "text/x-python",
   "name": "python",
   "nbconvert_exporter": "python",
   "pygments_lexer": "ipython3",
   "version": "3.7.6"
  }
 },
 "nbformat": 4,
 "nbformat_minor": 4
}
